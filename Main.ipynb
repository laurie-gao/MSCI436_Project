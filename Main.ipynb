{
 "cells": [
  {
   "cell_type": "markdown",
   "id": "2010282a",
   "metadata": {},
   "source": [
    "## Imports"
   ]
  },
  {
   "cell_type": "code",
   "execution_count": 2,
   "id": "34d68625",
   "metadata": {},
   "outputs": [],
   "source": [
    "import pandas as pd\n",
    "import numpy as np\n",
    "from datetime import date\n",
    "import datetime as dt\n",
    "from sklearn.preprocessing import LabelEncoder\n",
    "from sklearn.preprocessing import QuantileTransformer\n",
    "from xgboost import XGBClassifier\n",
    "from sklearn import metrics\n",
    "from sklearn.metrics import precision_recall_curve, confusion_matrix, accuracy_score\n",
    "from imblearn import over_sampling"
   ]
  },
  {
   "cell_type": "code",
   "execution_count": 3,
   "id": "76e46ec9",
   "metadata": {},
   "outputs": [],
   "source": [
    "fraud = pd.read_csv('data/fraudTrain.csv')\n",
    "fraud_test = pd.read_csv('data/fraudTest.csv')"
   ]
  },
  {
   "cell_type": "markdown",
   "id": "dbb1184a",
   "metadata": {},
   "source": [
    "## Data Preprocessing"
   ]
  },
  {
   "cell_type": "code",
   "execution_count": 4,
   "id": "3844a88f",
   "metadata": {},
   "outputs": [
    {
     "name": "stdout",
     "output_type": "stream",
     "text": [
      "% of data in the train set: 69.99995681264353\n"
     ]
    }
   ],
   "source": [
    "print('% of data in the train set:', len(fraud)*100/(len(fraud)+len(fraud_test)))"
   ]
  },
  {
   "cell_type": "code",
   "execution_count": 5,
   "id": "1f5cf791",
   "metadata": {},
   "outputs": [
    {
     "data": {
      "text/plain": [
       "Unnamed: 0               0\n",
       "trans_date_trans_time    0\n",
       "cc_num                   0\n",
       "merchant                 0\n",
       "category                 0\n",
       "amt                      0\n",
       "first                    0\n",
       "last                     0\n",
       "gender                   0\n",
       "street                   0\n",
       "city                     0\n",
       "state                    0\n",
       "zip                      0\n",
       "lat                      0\n",
       "long                     0\n",
       "city_pop                 0\n",
       "job                      0\n",
       "dob                      0\n",
       "trans_num                0\n",
       "unix_time                0\n",
       "merch_lat                0\n",
       "merch_long               0\n",
       "is_fraud                 0\n",
       "dtype: int64"
      ]
     },
     "execution_count": 5,
     "metadata": {},
     "output_type": "execute_result"
    }
   ],
   "source": [
    "# No null values in train\n",
    "fraud.isna().sum()"
   ]
  },
  {
   "cell_type": "code",
   "execution_count": 6,
   "id": "6bd1653b",
   "metadata": {},
   "outputs": [
    {
     "data": {
      "text/plain": [
       "Unnamed: 0               0\n",
       "trans_date_trans_time    0\n",
       "cc_num                   0\n",
       "merchant                 0\n",
       "category                 0\n",
       "amt                      0\n",
       "first                    0\n",
       "last                     0\n",
       "gender                   0\n",
       "street                   0\n",
       "city                     0\n",
       "state                    0\n",
       "zip                      0\n",
       "lat                      0\n",
       "long                     0\n",
       "city_pop                 0\n",
       "job                      0\n",
       "dob                      0\n",
       "trans_num                0\n",
       "unix_time                0\n",
       "merch_lat                0\n",
       "merch_long               0\n",
       "is_fraud                 0\n",
       "dtype: int64"
      ]
     },
     "execution_count": 6,
     "metadata": {},
     "output_type": "execute_result"
    }
   ],
   "source": [
    "# No null values in test\n",
    "fraud_test.isna().sum()"
   ]
  },
  {
   "cell_type": "code",
   "execution_count": 7,
   "id": "61499074",
   "metadata": {},
   "outputs": [
    {
     "name": "stdout",
     "output_type": "stream",
     "text": [
      "Train set class balance:\n",
      "0    0.994211\n",
      "1    0.005789\n",
      "Name: is_fraud, dtype: float64\n",
      "-------------------------\n",
      "Test set class balance:\n",
      "0    0.99614\n",
      "1    0.00386\n",
      "Name: is_fraud, dtype: float64\n"
     ]
    }
   ],
   "source": [
    "# High class imbalance in both train and test set \n",
    "\n",
    "print('Train set class balance:')\n",
    "print(fraud.is_fraud.value_counts(normalize=True))\n",
    "print('-------------------------')\n",
    "print('Test set class balance:')\n",
    "print(fraud_test.is_fraud.value_counts(normalize=True))"
   ]
  },
  {
   "cell_type": "code",
   "execution_count": 8,
   "id": "1c1ce7cb",
   "metadata": {},
   "outputs": [],
   "source": [
    "# Drop columns with little significance to determining fraud \n",
    "fraud.drop(['cc_num', 'first', 'last', 'street', 'trans_num'], axis=1, inplace=True)\n",
    "fraud.drop(fraud.iloc[:,[0]], axis=1, inplace=True)\n",
    "fraud_test.drop(['cc_num', 'first', 'last', 'street', 'trans_num'], axis=1, inplace=True)\n",
    "fraud_test.drop(fraud_test.iloc[:,[0]], axis=1, inplace=True)"
   ]
  },
  {
   "cell_type": "code",
   "execution_count": 9,
   "id": "99fecb49",
   "metadata": {},
   "outputs": [],
   "source": [
    "# Converting date of birth (dob) to age\n",
    "fraud['dob'] = pd.to_datetime(fraud['dob'])\n",
    "fraud['age'] = (pd.to_datetime('now') - fraud['dob'])/ np.timedelta64(1, 'Y')\n",
    "fraud['age'] = fraud['age'].astype(int)\n",
    "fraud.drop(['dob'], axis=1, inplace=True)\n",
    "\n",
    "fraud_test['dob'] = pd.to_datetime(fraud_test['dob'])\n",
    "fraud_test['age'] = (pd.to_datetime('now') - fraud_test['dob'])/ np.timedelta64(1, 'Y')\n",
    "fraud_test['age'] = fraud_test['age'].astype(int)\n",
    "fraud_test.drop(['dob'], axis=1, inplace=True)"
   ]
  },
  {
   "cell_type": "code",
   "execution_count": 10,
   "id": "33c6dfbd",
   "metadata": {},
   "outputs": [],
   "source": [
    "# Splitting trans_date_trans_time column into trans_date and trans_time\n",
    "fraud['trans_date'] = pd.DatetimeIndex(fraud['trans_date_trans_time']).date\n",
    "fraud['trans_time'] = pd.DatetimeIndex(fraud['trans_date_trans_time']).time\n",
    "fraud.drop(['trans_date_trans_time'], axis=1, inplace=True)\n",
    "\n",
    "fraud_test['trans_date'] = pd.DatetimeIndex(fraud_test['trans_date_trans_time']).date\n",
    "fraud_test['trans_time'] = pd.DatetimeIndex(fraud_test['trans_date_trans_time']).time\n",
    "fraud_test.drop(['trans_date_trans_time'], axis=1, inplace=True)"
   ]
  },
  {
   "cell_type": "code",
   "execution_count": 11,
   "id": "a780b573",
   "metadata": {},
   "outputs": [],
   "source": [
    "# Transform \"merchant\" into numeric variable\n",
    "label_encoder = LabelEncoder()\n",
    "fraud.merchant = label_encoder.fit_transform(fraud.merchant)\n",
    "fraud_test.merchant = label_encoder.fit_transform(fraud_test.merchant)"
   ]
  },
  {
   "cell_type": "code",
   "execution_count": 12,
   "id": "f1d42233",
   "metadata": {},
   "outputs": [],
   "source": [
    "# Transform \"city\" into numeric variable\n",
    "fraud.city = label_encoder.fit_transform(fraud.city)\n",
    "fraud_test.city = label_encoder.fit_transform(fraud_test.city)"
   ]
  },
  {
   "cell_type": "code",
   "execution_count": 13,
   "id": "db222650",
   "metadata": {},
   "outputs": [],
   "source": [
    "# Transform \"category\" into numeric variable\n",
    "fraud.category = label_encoder.fit_transform(fraud.category)\n",
    "fraud_test.category = label_encoder.fit_transform(fraud_test.category)"
   ]
  },
  {
   "cell_type": "code",
   "execution_count": 14,
   "id": "8734bddc",
   "metadata": {},
   "outputs": [],
   "source": [
    "# Transform \"gender\" into numeric variable\n",
    "fraud.gender = fraud.gender.map({'M': 1, \"F\": 0})\n",
    "fraud_test.gender = fraud_test.gender.map({'M': 1, \"F\": 0})"
   ]
  },
  {
   "cell_type": "code",
   "execution_count": 15,
   "id": "478d85e1",
   "metadata": {},
   "outputs": [],
   "source": [
    "# Transform \"state\" into numeric variable\n",
    "fraud.state = label_encoder.fit_transform(fraud.state)\n",
    "fraud_test.state = label_encoder.fit_transform(fraud_test.state)"
   ]
  },
  {
   "cell_type": "code",
   "execution_count": 16,
   "id": "5e115af5",
   "metadata": {},
   "outputs": [],
   "source": [
    "# Transform \"job\" into numeric variable\n",
    "fraud.job = label_encoder.fit_transform(fraud.job)\n",
    "fraud_test.job = label_encoder.fit_transform(fraud_test.job)"
   ]
  },
  {
   "cell_type": "code",
   "execution_count": 17,
   "id": "17d2588f",
   "metadata": {},
   "outputs": [],
   "source": [
    "# Convert trans_time into seconds\n",
    "fraud['trans_date'] =  pd.to_datetime(fraud['trans_date'])\n",
    "fraud.trans_date = fraud.trans_date.map(dt.datetime.toordinal)\n",
    "fraud.trans_time = pd.to_datetime(fraud.trans_time,format='%H:%M:%S')\n",
    "fraud.trans_time = 3600 * pd.DatetimeIndex(fraud.trans_time).hour + 60 * pd.DatetimeIndex(fraud.trans_time).minute + pd.DatetimeIndex(fraud.trans_time).second\n",
    "\n",
    "fraud_test['trans_date'] =  pd.to_datetime(fraud_test['trans_date'])\n",
    "fraud_test.trans_date = fraud_test.trans_date.map(dt.datetime.toordinal)\n",
    "fraud_test.trans_time = pd.to_datetime(fraud_test.trans_time,format='%H:%M:%S')\n",
    "fraud_test.trans_time = 3600 * pd.DatetimeIndex(fraud_test.trans_time).hour + 60 * pd.DatetimeIndex(fraud_test.trans_time).minute + pd.DatetimeIndex(fraud_test.trans_time).second"
   ]
  },
  {
   "cell_type": "code",
   "execution_count": 18,
   "id": "a7bf8376",
   "metadata": {},
   "outputs": [],
   "source": [
    "# Seperate target from variables\n",
    "X_train = fraud.drop('is_fraud', axis=1)\n",
    "y_train = fraud['is_fraud']\n",
    "\n",
    "X_test = fraud_test.drop('is_fraud', axis=1)\n",
    "y_test = fraud_test['is_fraud']"
   ]
  },
  {
   "cell_type": "code",
   "execution_count": 19,
   "id": "f5921559",
   "metadata": {},
   "outputs": [],
   "source": [
    "# Variables to be scaled\n",
    "vars_to_scale = ['merchant', 'category', 'amt', 'city', 'state', 'zip', 'lat', 'long', 'city_pop', 'job', 'unix_time', 'merch_lat', 'merch_long', 'age', 'trans_date', 'trans_time']\n",
    "\n",
    "# Scale the variables\n",
    "scaler = QuantileTransformer(output_distribution='normal')\n",
    "\n",
    "X_train[vars_to_scale] = scaler.fit_transform(X_train[vars_to_scale])\n",
    "X_test[vars_to_scale] = scaler.transform(X_test[vars_to_scale])"
   ]
  },
  {
   "cell_type": "code",
   "execution_count": 20,
   "id": "9465d574",
   "metadata": {},
   "outputs": [
    {
     "name": "stdout",
     "output_type": "stream",
     "text": [
      "(2578338, 17)\n",
      "(2578338,)\n",
      "0    1289169\n",
      "1    1289169\n",
      "Name: is_fraud, dtype: int64\n"
     ]
    }
   ],
   "source": [
    "# Address imbalance using over sampling\n",
    "ro = over_sampling.RandomOverSampler(random_state=100)\n",
    "X_train_ro, y_train_ro = ro.fit_resample(X_train, y_train)\n",
    "print (X_train_ro.shape)\n",
    "print (y_train_ro.shape)\n",
    "print (y_train_ro.value_counts())"
   ]
  },
  {
   "cell_type": "markdown",
   "id": "622c2aec",
   "metadata": {},
   "source": [
    "## Model (XGBoost)"
   ]
  },
  {
   "cell_type": "code",
   "execution_count": 21,
   "id": "ca099464",
   "metadata": {},
   "outputs": [
    {
     "data": {
      "text/plain": [
       "XGBClassifier(learning_rate=0.5, max_depth=10, max_features=14, n_estimators=15)"
      ]
     },
     "execution_count": 21,
     "metadata": {},
     "output_type": "execute_result"
    }
   ],
   "source": [
    "# Fit the model\n",
    "xgb = XGBClassifier(learning_rate=0.5, max_depth=10, n_estimators=15, max_features = 14)\n",
    "xgb.fit(X_train_ro, y_train_ro)"
   ]
  },
  {
   "cell_type": "code",
   "execution_count": 22,
   "id": "dd441033",
   "metadata": {},
   "outputs": [],
   "source": [
    "# Function to return various standard metrics for a model\n",
    "def model_metrics(a, p):\n",
    "    confusion = confusion_matrix(a, p)\n",
    "    TP = confusion[1,1] # true positive \n",
    "    TN = confusion[0,0] # true negatives\n",
    "    FP = confusion[0,1] # false positives\n",
    "    FN = confusion[1,0] # false negatives\n",
    "    print ('Accuracy    : ', metrics.accuracy_score(a, p ))\n",
    "    print ('Sensitivity : ', TP / float(TP+FN))\n",
    "    print ('Specificity : ', TN / float(TN+FP))\n",
    "    print ('Pricision   : ', TP / float(TP + FP))\n",
    "    print ('Recall      : ', TP / float(TP + FN))\n",
    "    print(confusion)\n",
    "\n",
    "    return None"
   ]
  },
  {
   "cell_type": "code",
   "execution_count": 23,
   "id": "f92ef981",
   "metadata": {},
   "outputs": [
    {
     "name": "stdout",
     "output_type": "stream",
     "text": [
      "AUC         :  0.997641503945565\n",
      "Accuracy    :  0.9953103129157268\n",
      "Sensitivity :  1.0\n",
      "Specificity :  0.9952830078911299\n",
      "Pricision   :  0.552439832192537\n",
      "Recall      :  1.0\n",
      "[[1283088    6081]\n",
      " [      0    7506]]\n"
     ]
    }
   ],
   "source": [
    "# Performance of model on original train (not oversampled) data\n",
    "y_train_pred = xgb.predict(X_train)\n",
    "print ('AUC         : ', metrics.roc_auc_score(y_train, y_train_pred))\n",
    "model_metrics(y_train, y_train_pred)"
   ]
  },
  {
   "cell_type": "code",
   "execution_count": 24,
   "id": "1cc14de5",
   "metadata": {},
   "outputs": [
    {
     "name": "stdout",
     "output_type": "stream",
     "text": [
      "AUC         :  0.9427826087571668\n",
      "Accuracy    :  0.9956434816876875\n",
      "Sensitivity :  0.8895104895104895\n",
      "Specificity :  0.9960547280038441\n",
      "Pricision   :  0.4662756598240469\n",
      "Recall      :  0.8895104895104895\n",
      "[[551390   2184]\n",
      " [   237   1908]]\n"
     ]
    }
   ],
   "source": [
    "# Performance of model on test data\n",
    "y_test_pred = xgb.predict(X_test)\n",
    "print ('AUC         : ', metrics.roc_auc_score(y_test, y_test_pred))\n",
    "model_metrics(y_test, y_test_pred)"
   ]
  },
  {
   "cell_type": "code",
   "execution_count": 25,
   "id": "8cf73af9",
   "metadata": {},
   "outputs": [
    {
     "data": {
      "text/html": [
       "<div>\n",
       "<style scoped>\n",
       "    .dataframe tbody tr th:only-of-type {\n",
       "        vertical-align: middle;\n",
       "    }\n",
       "\n",
       "    .dataframe tbody tr th {\n",
       "        vertical-align: top;\n",
       "    }\n",
       "\n",
       "    .dataframe thead th {\n",
       "        text-align: right;\n",
       "    }\n",
       "</style>\n",
       "<table border=\"1\" class=\"dataframe\">\n",
       "  <thead>\n",
       "    <tr style=\"text-align: right;\">\n",
       "      <th></th>\n",
       "      <th>Varname</th>\n",
       "      <th>Imp</th>\n",
       "    </tr>\n",
       "  </thead>\n",
       "  <tbody>\n",
       "    <tr>\n",
       "      <th>2</th>\n",
       "      <td>amt</td>\n",
       "      <td>0.546160</td>\n",
       "    </tr>\n",
       "    <tr>\n",
       "      <th>16</th>\n",
       "      <td>trans_time</td>\n",
       "      <td>0.158121</td>\n",
       "    </tr>\n",
       "    <tr>\n",
       "      <th>1</th>\n",
       "      <td>category</td>\n",
       "      <td>0.111523</td>\n",
       "    </tr>\n",
       "    <tr>\n",
       "      <th>14</th>\n",
       "      <td>age</td>\n",
       "      <td>0.041383</td>\n",
       "    </tr>\n",
       "    <tr>\n",
       "      <th>9</th>\n",
       "      <td>city_pop</td>\n",
       "      <td>0.018153</td>\n",
       "    </tr>\n",
       "    <tr>\n",
       "      <th>11</th>\n",
       "      <td>unix_time</td>\n",
       "      <td>0.013385</td>\n",
       "    </tr>\n",
       "    <tr>\n",
       "      <th>6</th>\n",
       "      <td>zip</td>\n",
       "      <td>0.013239</td>\n",
       "    </tr>\n",
       "    <tr>\n",
       "      <th>8</th>\n",
       "      <td>long</td>\n",
       "      <td>0.012753</td>\n",
       "    </tr>\n",
       "    <tr>\n",
       "      <th>3</th>\n",
       "      <td>gender</td>\n",
       "      <td>0.012549</td>\n",
       "    </tr>\n",
       "    <tr>\n",
       "      <th>12</th>\n",
       "      <td>merch_lat</td>\n",
       "      <td>0.012103</td>\n",
       "    </tr>\n",
       "    <tr>\n",
       "      <th>13</th>\n",
       "      <td>merch_long</td>\n",
       "      <td>0.011632</td>\n",
       "    </tr>\n",
       "    <tr>\n",
       "      <th>5</th>\n",
       "      <td>state</td>\n",
       "      <td>0.011330</td>\n",
       "    </tr>\n",
       "    <tr>\n",
       "      <th>7</th>\n",
       "      <td>lat</td>\n",
       "      <td>0.009959</td>\n",
       "    </tr>\n",
       "    <tr>\n",
       "      <th>4</th>\n",
       "      <td>city</td>\n",
       "      <td>0.009885</td>\n",
       "    </tr>\n",
       "    <tr>\n",
       "      <th>10</th>\n",
       "      <td>job</td>\n",
       "      <td>0.009364</td>\n",
       "    </tr>\n",
       "    <tr>\n",
       "      <th>0</th>\n",
       "      <td>merchant</td>\n",
       "      <td>0.008461</td>\n",
       "    </tr>\n",
       "    <tr>\n",
       "      <th>15</th>\n",
       "      <td>trans_date</td>\n",
       "      <td>0.000000</td>\n",
       "    </tr>\n",
       "  </tbody>\n",
       "</table>\n",
       "</div>"
      ],
      "text/plain": [
       "       Varname       Imp\n",
       "2          amt  0.546160\n",
       "16  trans_time  0.158121\n",
       "1     category  0.111523\n",
       "14         age  0.041383\n",
       "9     city_pop  0.018153\n",
       "11   unix_time  0.013385\n",
       "6          zip  0.013239\n",
       "8         long  0.012753\n",
       "3       gender  0.012549\n",
       "12   merch_lat  0.012103\n",
       "13  merch_long  0.011632\n",
       "5        state  0.011330\n",
       "7          lat  0.009959\n",
       "4         city  0.009885\n",
       "10         job  0.009364\n",
       "0     merchant  0.008461\n",
       "15  trans_date  0.000000"
      ]
     },
     "execution_count": 25,
     "metadata": {},
     "output_type": "execute_result"
    }
   ],
   "source": [
    "# Feature importances\n",
    "imp_df = pd.DataFrame({\n",
    "    \"Varname\": X_train.columns,\n",
    "    \"Imp\": xgb.feature_importances_})\n",
    "\n",
    "imp_df.sort_values(by=\"Imp\", ascending=False)"
   ]
  }
 ],
 "metadata": {
  "kernelspec": {
   "display_name": "Python 3 (ipykernel)",
   "language": "python",
   "name": "python3"
  },
  "language_info": {
   "codemirror_mode": {
    "name": "ipython",
    "version": 3
   },
   "file_extension": ".py",
   "mimetype": "text/x-python",
   "name": "python",
   "nbconvert_exporter": "python",
   "pygments_lexer": "ipython3",
   "version": "3.7.3"
  }
 },
 "nbformat": 4,
 "nbformat_minor": 5
}
